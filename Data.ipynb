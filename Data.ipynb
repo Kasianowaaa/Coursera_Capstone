{
 "cells": [
  {
   "cell_type": "markdown",
   "metadata": {},
   "source": [
    "# 2. Data\n",
    "## To solve this problem we will need the following data:\n",
    "* Postal codes, boroughs and neighbourhoods of Toronto, available here: <a href=\"https://en.wikipedia.org/wiki/List_of_postal_codes_of_Canada:_M\"> BOROUGHS </a>\n",
    "* Latitude and longitude coordinates of those suburbs, available here: <a href=\"https://cocl.us/Geospatial_data\"> COORDINATES </a>\n",
    "* Venue data, particularly data related to coffee shops (Foursqare API)\n"
   ]
  },
  {
   "cell_type": "markdown",
   "metadata": {},
   "source": [
    "The Wikipedia page contains a list of postal codes of Toronto with a total of 180 of them. Python and beautifulsoup packages will be used to help with web scraping the data. Coordinates will be taken from 'Geospatial' data. Foursqare API has one of the largest database of more than 105 million places. It will help us to acquire data of Toronto neighbourhoods' cofee shops."
   ]
  },
  {
   "cell_type": "code",
   "execution_count": null,
   "metadata": {},
   "outputs": [],
   "source": []
  }
 ],
 "metadata": {
  "kernelspec": {
   "display_name": "Python",
   "language": "python",
   "name": "conda-env-python-py"
  },
  "language_info": {
   "codemirror_mode": {
    "name": "ipython",
    "version": 3
   },
   "file_extension": ".py",
   "mimetype": "text/x-python",
   "name": "python",
   "nbconvert_exporter": "python",
   "pygments_lexer": "ipython3",
   "version": "3.6.11"
  }
 },
 "nbformat": 4,
 "nbformat_minor": 4
}
