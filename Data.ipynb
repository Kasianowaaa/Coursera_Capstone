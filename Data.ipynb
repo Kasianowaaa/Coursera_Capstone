{
 "cells": [
  {
   "cell_type": "markdown",
   "metadata": {},
   "source": [
    "# 2. Data\n",
    "## To solve this problem we will need the following data:\n",
    "* Weekly median household income in each of Perth suburb, available here: <a href=\"http://house.speakingsame.com/suburbtop.php?sta=wa&cat=Median+household+income&name=Weekly+income\"> MEDIAN </a>\n",
    "* Postcodes and suburbs of Perth, available here: <a href=\"https://auspost.com.au/postcode/perth\"> POSTCODES </a>\n",
    "* Latitude and longitude coordinates of those suburbs (Python Geocoder)\n",
    "* Venue data, particularly data related to coffee shops (Foursqare API)"
   ]
  },
  {
   "cell_type": "code",
   "execution_count": null,
   "metadata": {},
   "outputs": [],
   "source": []
  }
 ],
 "metadata": {
  "kernelspec": {
   "display_name": "Python",
   "language": "python",
   "name": "conda-env-python-py"
  },
  "language_info": {
   "codemirror_mode": {
    "name": "ipython",
    "version": 3
   },
   "file_extension": ".py",
   "mimetype": "text/x-python",
   "name": "python",
   "nbconvert_exporter": "python",
   "pygments_lexer": "ipython3",
   "version": "3.6.11"
  }
 },
 "nbformat": 4,
 "nbformat_minor": 4
}
