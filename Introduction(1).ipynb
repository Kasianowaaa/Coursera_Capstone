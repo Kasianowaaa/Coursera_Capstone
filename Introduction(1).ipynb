{
 "cells": [
  {
   "cell_type": "markdown",
   "metadata": {},
   "source": [
    " \n",
    "  # 1. Introduction\n",
    "\n",
    "<p>Almost everyone loves coffee. Canada, with a population of only 37 million, has a coffee consumption estimated around 3.9 million (60-kilogram bags), with a coffee per capita consumption more than 7 kg. . What makes it more attractive to enter into the coffee business is the low starting cost in comparison with other businesses. The second thing that makes coffee business very appealing is that even though it is food service, and has the highest gnawing away rate than any other business, it has a higher profit margin than say in a restaurant and this is an advantage (Godsmark, Brown, & Arduser, 2004). </p>\n",
    "<p> Despite what people may believe, Ontario has developed a small but mighty culture for experimenting with this black gold and it’s part of the reason it outshines other Canadian states for coffee interest. That's why it would be worth considering establishing this business in its capital, Toronto. </p>\n",
    "<p> <strong> Business Problem: </strong> If the client wanted to open a coffee shop in Toronto, what areas are the best options to do it? </p>\n",
    " "
   ]
  },
  {
   "cell_type": "markdown",
   "metadata": {},
   "source": []
  }
 ],
 "metadata": {
  "kernelspec": {
   "display_name": "Python",
   "language": "python",
   "name": "conda-env-python-py"
  },
  "language_info": {
   "codemirror_mode": {
    "name": "ipython",
    "version": 3
   },
   "file_extension": ".py",
   "mimetype": "text/x-python",
   "name": "python",
   "nbconvert_exporter": "python",
   "pygments_lexer": "ipython3",
   "version": "3.6.11"
  }
 },
 "nbformat": 4,
 "nbformat_minor": 4
}
